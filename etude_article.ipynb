{
 "cells": [
  {
   "cell_type": "code",
   "execution_count": 99,
   "metadata": {},
   "outputs": [],
   "source": [
    "import math\n",
    "import numpy as np\n",
    "import sys\n",
    "import json\n",
    "import numpy as np\n",
    "import functools\n",
    "from typing import List, Callable\n",
    "import numpy as np\n",
    "from scipy.interpolate import BSpline\n",
    "from scipy.optimize import minimize\n",
    "from scipy.integrate import quad\n"
   ]
  },
  {
   "cell_type": "code",
   "execution_count": 100,
   "metadata": {},
   "outputs": [
    {
     "data": {
      "text/plain": [
       "array([20.])"
      ]
     },
     "execution_count": 100,
     "metadata": {},
     "output_type": "execute_result"
    }
   ],
   "source": [
    "#Read & parse Option file\n",
    "\n",
    "with open('/home/cordeau/Cours/etude_article/python/basket_d5.txt', 'r') as file:\n",
    "    content = file.readlines()\n",
    "# Initialisation des variables\n",
    "rho = degree = T = size = dates = n_samples = 0\n",
    "spot = sigma = divid = coeffs = None\n",
    "type = \"\"\n",
    "strike = 0.0\n",
    "opt = None\n",
    "c = False\n",
    "# Extraction des paramètres\n",
    "for line in content:\n",
    "    ine = line.strip()\n",
    "    if \"correlation\" in line:\n",
    "        rho = float(line.split()[-1])\n",
    "    elif \"degree for polynomial regression\" in line:\n",
    "        degree = int(line.split()[-1])\n",
    "    elif \"option type\" in line:\n",
    "        type = line.split()[-1].strip()\n",
    "    elif \"maturity\" in line:\n",
    "        T = float(line.split()[-1])\n",
    "    elif \"model size\" in line:\n",
    "        size = int(line.split()[-1])\n",
    "    elif \"dates\" in line:\n",
    "        dates = int(line.split()[-1])\n",
    "    elif \"spot\" in line:\n",
    "        spot =[float(line.split()[-1])]\n",
    "    elif \"volatility\" in line:\n",
    "        sigma = [float(line.split()[-1])]\n",
    "    elif \"interest rate\" in line:\n",
    "        r = float(line.split()[-1])\n",
    "    elif \"dividend rate\" in line:\n",
    "        divid = [float(line.split()[-1])]\n",
    "    elif \"strike\" in line:\n",
    "        strike = float(line.split()[-1])\n",
    "    elif \"MC iterations\" in line:\n",
    "        n_samples = int(line.split()[-1])\n",
    "    elif \"payoff coefficients\" in line:\n",
    "        coeffs = [float(line.split()[-1])]\n",
    "\n",
    "\n",
    "#Create the payoff function\n",
    "def payoffVect(St):\n",
    "    sum = np.dot(coeffs, St)\n",
    "    sum -= strike\n",
    "\n",
    "    return np.maximum(0, sum)\n",
    "\n",
    "payoffVect(80)\n"
   ]
  },
  {
   "cell_type": "code",
   "execution_count": 101,
   "metadata": {},
   "outputs": [
    {
     "name": "stdout",
     "output_type": "stream",
     "text": [
      "[[100.        ]\n",
      " [ 92.63684447]\n",
      " [ 94.55835781]\n",
      " [ 94.962772  ]\n",
      " [ 89.07652955]\n",
      " [ 91.41578147]\n",
      " [ 86.32540911]\n",
      " [ 82.94882532]\n",
      " [ 80.08277206]\n",
      " [ 93.77213047]]\n"
     ]
    }
   ],
   "source": [
    "nbTimeSteps = 10\n",
    "step = T/nbTimeSteps\n",
    "\n",
    "def asset(CorrelationMatrix, path):\n",
    "    Gaussian_k = np.zeros(size)\n",
    "    CorrelationLine = np.zeros(size)\n",
    "    div = 0.0\n",
    "    sig = 0.0\n",
    "    expon = 0.0\n",
    "    value = 0.0\n",
    "\n",
    "    path[0,:] = spot\n",
    "    for k in range(1, nbTimeSteps):\n",
    "        Gaussian_k = np.random.normal(0, 1, size)\n",
    "        for d in range(size):\n",
    "            div = divid[d]\n",
    "            sig = sigma[d]\n",
    "            CorrelationLine = CorrelationMatrix[d,:]\n",
    "            expon = math.exp((r - div - sig*sig/2.0)*step + sig*math.sqrt(step)*np.dot(CorrelationLine, Gaussian_k))\n",
    "            value = expon*path[k-1,d]\n",
    "            path[k,d] = value\n",
    "\n",
    "    del CorrelationLine, Gaussian_k\n",
    "\n",
    "path = np.zeros((nbTimeSteps, 1))\n",
    "correl = np.zeros((1,1))\n",
    "correl[0][0] = 1\n",
    "asset(correl, path)\n",
    "print(path)"
   ]
  },
  {
   "cell_type": "code",
   "execution_count": 102,
   "metadata": {},
   "outputs": [],
   "source": [
    "#Creation of differents paths.\n",
    "allPath = np.empty(n_samples, dtype=object)\n",
    "for i in range(n_samples):\n",
    "    path = np.zeros((nbTimeSteps, 1))\n",
    "    asset(correl, path)\n",
    "    allPath[i] = path\n"
   ]
  },
  {
   "cell_type": "code",
   "execution_count": 103,
   "metadata": {},
   "outputs": [
    {
     "name": "stdout",
     "output_type": "stream",
     "text": [
      "[[ 1.00000000e-03  0.00000000e+00  0.00000000e+00  0.00000000e+00\n",
      "   0.00000000e+00  0.00000000e+00]\n",
      " [-1.00000000e-03  4.33161608e-04  0.00000000e+00  0.00000000e+00\n",
      "   0.00000000e+00  0.00000000e+00]\n",
      " [-1.00000000e-03 -4.33161608e-04  1.87449287e-04  0.00000000e+00\n",
      "   0.00000000e+00  0.00000000e+00]\n",
      " [-1.00000000e-03 -4.33161608e-04 -1.87449287e-04  8.10404180e-05\n",
      "   0.00000000e+00  0.00000000e+00]\n",
      " [-1.00000000e-03 -4.33161608e-04 -1.87449287e-04 -8.10404180e-05\n",
      "   3.50028412e-05  0.00000000e+00]\n",
      " [-1.00000000e-03 -4.33161608e-04 -1.87449287e-04 -8.10404180e-05\n",
      "  -3.50028412e-05  1.51038589e-05]]\n"
     ]
    }
   ],
   "source": [
    "#Creation of the orthogonal base for the inner product of the article\n",
    "K = 5\n",
    "\n",
    "def polynom_result(vector, x):\n",
    "    res = 0\n",
    "    for i in range(len(vector)):\n",
    "        res += (x**i)*vector[i]\n",
    "    return res\n",
    "\n",
    "def norm(vector, points):\n",
    "    res = 0\n",
    "    for i in range(len(points)):\n",
    "        for j in range(len(points[0])):\n",
    "            res += polynom_result(vector, math.log(points[i][j]))\n",
    "    return res\n",
    "\n",
    "def inner_product(u, v, matrice):\n",
    "    #print(\"innerprod\")\n",
    "    # Use the polarization identity to compute the inner product\n",
    "    u_plus_v_norm_sq = norm(u + v, matrice)\n",
    "    u_minus_v_norm_sq = norm(u - v, matrice)\n",
    "    result = (u_plus_v_norm_sq - u_minus_v_norm_sq) / 4.0\n",
    "    \n",
    "    return result\n",
    "\n",
    "\n",
    "def gram_schmidt():\n",
    "\n",
    "    A = np.identity(K+1)\n",
    "    Q = np.zeros_like(A)\n",
    "    for i in range(A.shape[0]):\n",
    "        # Take the i-th vector\n",
    "        v = A[i]\n",
    "        # Subtract the projection of v onto the span of the previous orthonormal vectors\n",
    "        for j in range(i):\n",
    "            v -= inner_product(Q[j], A[i], allPath) * Q[j]\n",
    "        # Normalize the resulting vector\n",
    "        Q[i] = v / math.sqrt(norm(v, allPath))\n",
    "    return Q\n",
    "\n",
    "base = gram_schmidt()\n",
    "print(base)\n"
   ]
  },
  {
   "cell_type": "code",
   "execution_count": 104,
   "metadata": {},
   "outputs": [
    {
     "data": {
      "text/plain": [
       "array([ 0.001     , -0.00056684, -0.00124571, -0.00153957, -0.00166665,\n",
       "       -0.00172155])"
      ]
     },
     "execution_count": 104,
     "metadata": {},
     "output_type": "execute_result"
    }
   ],
   "source": [
    "np.dot(base, [1]*6)"
   ]
  },
  {
   "cell_type": "code",
   "execution_count": 110,
   "metadata": {},
   "outputs": [
    {
     "data": {
      "text/plain": [
       "0.9931848348369923"
      ]
     },
     "execution_count": 110,
     "metadata": {},
     "output_type": "execute_result"
    }
   ],
   "source": [
    "#Definition of differents functions to integrate\n",
    "\n",
    "def Yt(path, t):\n",
    "    index = int(t//step)\n",
    "    return math.exp(-r * t) * payoffVect(path[index][:])\n",
    "\n",
    "def Lambdat(polynom, t, path):\n",
    "    res = 0\n",
    "    index = int(t//step)\n",
    "    rebased_polynom = np.dot(base, polynom)\n",
    "    spot = path[index]\n",
    "    p_x = polynom_result(rebased_polynom, math.log(spot))\n",
    "    if(payoffVect(path[index][:]) > 0):\n",
    "        res = math.exp(p_x)\n",
    "    return res\n",
    "\n",
    "def Ut(polynom, t, path):\n",
    "    integration = 0\n",
    "    for i in range(nbTimeSteps):\n",
    "        integration += quad(lambda x: Lambdat(polynom, x, path), i*step, (i+1)*step)[0]\n",
    "    return math.exp(-integration)\n",
    "\n",
    "pol = [1] * (K+1)\n",
    "Ut(pol, 0.6, path)"
   ]
  },
  {
   "cell_type": "code",
   "execution_count": 111,
   "metadata": {},
   "outputs": [
    {
     "data": {
      "text/plain": [
       "0.06359042058607492"
      ]
     },
     "execution_count": 111,
     "metadata": {},
     "output_type": "execute_result"
    }
   ],
   "source": [
    "def phi(polynom, path):\n",
    "    integration = 0\n",
    "    for i in range(nbTimeSteps):\n",
    "        integration += quad(lambda t: Yt(path, t) * Ut(polynom, t, path) * Lambdat(polynom, t, path), i*step, (i+1)*step)[0]\n",
    "    return integration\n",
    "phi(pol, path)"
   ]
  },
  {
   "cell_type": "code",
   "execution_count": 107,
   "metadata": {},
   "outputs": [
    {
     "data": {
      "text/plain": [
       "0.10534805894773827"
      ]
     },
     "execution_count": 107,
     "metadata": {},
     "output_type": "execute_result"
    }
   ],
   "source": [
    "#Definition of the function tu optimizate\n",
    "def psy(polynom, allpath):\n",
    "    M = len(allPath)\n",
    "    res = 0\n",
    "    for path in allPath:\n",
    "        res += phi(polynom, path)\n",
    "    return res / M\n",
    "\n",
    "psy(pol, allPath)"
   ]
  },
  {
   "cell_type": "code",
   "execution_count": 112,
   "metadata": {},
   "outputs": [
    {
     "ename": "KeyboardInterrupt",
     "evalue": "",
     "output_type": "error",
     "traceback": [
      "\u001b[0;31m---------------------------------------------------------------------------\u001b[0m",
      "\u001b[0;31mKeyboardInterrupt\u001b[0m                         Traceback (most recent call last)",
      "\u001b[1;32m/home/cordeau/Cours/etude_article/python/etude_article.ipynb Cell 10\u001b[0m in \u001b[0;36m7\n\u001b[1;32m      <a href='vscode-notebook-cell:/home/cordeau/Cours/etude_article/python/etude_article.ipynb#X20sZmlsZQ%3D%3D?line=2'>3</a>\u001b[0m     \u001b[39mreturn\u001b[39;00m result\n\u001b[1;32m      <a href='vscode-notebook-cell:/home/cordeau/Cours/etude_article/python/etude_article.ipynb#X20sZmlsZQ%3D%3D?line=4'>5</a>\u001b[0m polynom_to_optimize \u001b[39m=\u001b[39m np\u001b[39m.\u001b[39mrandom\u001b[39m.\u001b[39mrand(K\u001b[39m+\u001b[39m\u001b[39m1\u001b[39m)  \u001b[39m# point de départ initial\u001b[39;00m\n\u001b[0;32m----> <a href='vscode-notebook-cell:/home/cordeau/Cours/etude_article/python/etude_article.ipynb#X20sZmlsZQ%3D%3D?line=6'>7</a>\u001b[0m optimization(polynom_to_optimize, allPath)\n",
      "\u001b[1;32m/home/cordeau/Cours/etude_article/python/etude_article.ipynb Cell 10\u001b[0m in \u001b[0;36m2\n\u001b[1;32m      <a href='vscode-notebook-cell:/home/cordeau/Cours/etude_article/python/etude_article.ipynb#X20sZmlsZQ%3D%3D?line=0'>1</a>\u001b[0m \u001b[39mdef\u001b[39;00m \u001b[39moptimization\u001b[39m(coefficients, allPath):\n\u001b[0;32m----> <a href='vscode-notebook-cell:/home/cordeau/Cours/etude_article/python/etude_article.ipynb#X20sZmlsZQ%3D%3D?line=1'>2</a>\u001b[0m     result \u001b[39m=\u001b[39m minimize(\u001b[39mlambda\u001b[39;49;00m x: psy(x, allPath), x0\u001b[39m=\u001b[39;49mcoefficients, method\u001b[39m=\u001b[39;49m\u001b[39m'\u001b[39;49m\u001b[39mBFGS\u001b[39;49m\u001b[39m'\u001b[39;49m)\n\u001b[1;32m      <a href='vscode-notebook-cell:/home/cordeau/Cours/etude_article/python/etude_article.ipynb#X20sZmlsZQ%3D%3D?line=2'>3</a>\u001b[0m     \u001b[39mreturn\u001b[39;00m result\n",
      "File \u001b[0;32m~/.local/lib/python3.10/site-packages/scipy/optimize/_minimize.py:691\u001b[0m, in \u001b[0;36mminimize\u001b[0;34m(fun, x0, args, method, jac, hess, hessp, bounds, constraints, tol, callback, options)\u001b[0m\n\u001b[1;32m    689\u001b[0m     res \u001b[39m=\u001b[39m _minimize_cg(fun, x0, args, jac, callback, \u001b[39m*\u001b[39m\u001b[39m*\u001b[39moptions)\n\u001b[1;32m    690\u001b[0m \u001b[39melif\u001b[39;00m meth \u001b[39m==\u001b[39m \u001b[39m'\u001b[39m\u001b[39mbfgs\u001b[39m\u001b[39m'\u001b[39m:\n\u001b[0;32m--> 691\u001b[0m     res \u001b[39m=\u001b[39m _minimize_bfgs(fun, x0, args, jac, callback, \u001b[39m*\u001b[39;49m\u001b[39m*\u001b[39;49moptions)\n\u001b[1;32m    692\u001b[0m \u001b[39melif\u001b[39;00m meth \u001b[39m==\u001b[39m \u001b[39m'\u001b[39m\u001b[39mnewton-cg\u001b[39m\u001b[39m'\u001b[39m:\n\u001b[1;32m    693\u001b[0m     res \u001b[39m=\u001b[39m _minimize_newtoncg(fun, x0, args, jac, hess, hessp, callback,\n\u001b[1;32m    694\u001b[0m                              \u001b[39m*\u001b[39m\u001b[39m*\u001b[39moptions)\n",
      "File \u001b[0;32m~/.local/lib/python3.10/site-packages/scipy/optimize/_optimize.py:1388\u001b[0m, in \u001b[0;36m_minimize_bfgs\u001b[0;34m(fun, x0, args, jac, callback, gtol, norm, eps, maxiter, disp, return_all, finite_diff_rel_step, xrtol, **unknown_options)\u001b[0m\n\u001b[1;32m   1385\u001b[0m pk \u001b[39m=\u001b[39m \u001b[39m-\u001b[39mnp\u001b[39m.\u001b[39mdot(Hk, gfk)\n\u001b[1;32m   1386\u001b[0m \u001b[39mtry\u001b[39;00m:\n\u001b[1;32m   1387\u001b[0m     alpha_k, fc, gc, old_fval, old_old_fval, gfkp1 \u001b[39m=\u001b[39m \\\n\u001b[0;32m-> 1388\u001b[0m              _line_search_wolfe12(f, myfprime, xk, pk, gfk,\n\u001b[1;32m   1389\u001b[0m                                   old_fval, old_old_fval, amin\u001b[39m=\u001b[39;49m\u001b[39m1e-100\u001b[39;49m, amax\u001b[39m=\u001b[39;49m\u001b[39m1e100\u001b[39;49m)\n\u001b[1;32m   1390\u001b[0m \u001b[39mexcept\u001b[39;00m _LineSearchError:\n\u001b[1;32m   1391\u001b[0m     \u001b[39m# Line search failed to find a better solution.\u001b[39;00m\n\u001b[1;32m   1392\u001b[0m     warnflag \u001b[39m=\u001b[39m \u001b[39m2\u001b[39m\n",
      "File \u001b[0;32m~/.local/lib/python3.10/site-packages/scipy/optimize/_optimize.py:1160\u001b[0m, in \u001b[0;36m_line_search_wolfe12\u001b[0;34m(f, fprime, xk, pk, gfk, old_fval, old_old_fval, **kwargs)\u001b[0m\n\u001b[1;32m   1146\u001b[0m \u001b[39m\"\"\"\u001b[39;00m\n\u001b[1;32m   1147\u001b[0m \u001b[39mSame as line_search_wolfe1, but fall back to line_search_wolfe2 if\u001b[39;00m\n\u001b[1;32m   1148\u001b[0m \u001b[39msuitable step length is not found, and raise an exception if a\u001b[39;00m\n\u001b[0;32m   (...)\u001b[0m\n\u001b[1;32m   1155\u001b[0m \n\u001b[1;32m   1156\u001b[0m \u001b[39m\"\"\"\u001b[39;00m\n\u001b[1;32m   1158\u001b[0m extra_condition \u001b[39m=\u001b[39m kwargs\u001b[39m.\u001b[39mpop(\u001b[39m'\u001b[39m\u001b[39mextra_condition\u001b[39m\u001b[39m'\u001b[39m, \u001b[39mNone\u001b[39;00m)\n\u001b[0;32m-> 1160\u001b[0m ret \u001b[39m=\u001b[39m line_search_wolfe1(f, fprime, xk, pk, gfk,\n\u001b[1;32m   1161\u001b[0m                          old_fval, old_old_fval,\n\u001b[1;32m   1162\u001b[0m                          \u001b[39m*\u001b[39;49m\u001b[39m*\u001b[39;49mkwargs)\n\u001b[1;32m   1164\u001b[0m \u001b[39mif\u001b[39;00m ret[\u001b[39m0\u001b[39m] \u001b[39mis\u001b[39;00m \u001b[39mnot\u001b[39;00m \u001b[39mNone\u001b[39;00m \u001b[39mand\u001b[39;00m extra_condition \u001b[39mis\u001b[39;00m \u001b[39mnot\u001b[39;00m \u001b[39mNone\u001b[39;00m:\n\u001b[1;32m   1165\u001b[0m     xp1 \u001b[39m=\u001b[39m xk \u001b[39m+\u001b[39m ret[\u001b[39m0\u001b[39m] \u001b[39m*\u001b[39m pk\n",
      "File \u001b[0;32m~/.local/lib/python3.10/site-packages/scipy/optimize/_linesearch.py:84\u001b[0m, in \u001b[0;36mline_search_wolfe1\u001b[0;34m(f, fprime, xk, pk, gfk, old_fval, old_old_fval, args, c1, c2, amax, amin, xtol)\u001b[0m\n\u001b[1;32m     80\u001b[0m     \u001b[39mreturn\u001b[39;00m np\u001b[39m.\u001b[39mdot(gval[\u001b[39m0\u001b[39m], pk)\n\u001b[1;32m     82\u001b[0m derphi0 \u001b[39m=\u001b[39m np\u001b[39m.\u001b[39mdot(gfk, pk)\n\u001b[0;32m---> 84\u001b[0m stp, fval, old_fval \u001b[39m=\u001b[39m scalar_search_wolfe1(\n\u001b[1;32m     85\u001b[0m         phi, derphi, old_fval, old_old_fval, derphi0,\n\u001b[1;32m     86\u001b[0m         c1\u001b[39m=\u001b[39;49mc1, c2\u001b[39m=\u001b[39;49mc2, amax\u001b[39m=\u001b[39;49mamax, amin\u001b[39m=\u001b[39;49mamin, xtol\u001b[39m=\u001b[39;49mxtol)\n\u001b[1;32m     88\u001b[0m \u001b[39mreturn\u001b[39;00m stp, fc[\u001b[39m0\u001b[39m], gc[\u001b[39m0\u001b[39m], fval, old_fval, gval[\u001b[39m0\u001b[39m]\n",
      "File \u001b[0;32m~/.local/lib/python3.10/site-packages/scipy/optimize/_linesearch.py:161\u001b[0m, in \u001b[0;36mscalar_search_wolfe1\u001b[0;34m(phi, derphi, phi0, old_phi0, derphi0, c1, c2, amax, amin, xtol)\u001b[0m\n\u001b[1;32m    159\u001b[0m     alpha1 \u001b[39m=\u001b[39m stp\n\u001b[1;32m    160\u001b[0m     phi1 \u001b[39m=\u001b[39m phi(stp)\n\u001b[0;32m--> 161\u001b[0m     derphi1 \u001b[39m=\u001b[39m derphi(stp)\n\u001b[1;32m    162\u001b[0m \u001b[39melse\u001b[39;00m:\n\u001b[1;32m    163\u001b[0m     \u001b[39mbreak\u001b[39;00m\n",
      "File \u001b[0;32m~/.local/lib/python3.10/site-packages/scipy/optimize/_linesearch.py:78\u001b[0m, in \u001b[0;36mline_search_wolfe1.<locals>.derphi\u001b[0;34m(s)\u001b[0m\n\u001b[1;32m     77\u001b[0m \u001b[39mdef\u001b[39;00m \u001b[39mderphi\u001b[39m(s):\n\u001b[0;32m---> 78\u001b[0m     gval[\u001b[39m0\u001b[39m] \u001b[39m=\u001b[39m fprime(xk \u001b[39m+\u001b[39;49m s\u001b[39m*\u001b[39;49mpk, \u001b[39m*\u001b[39;49margs)\n\u001b[1;32m     79\u001b[0m     gc[\u001b[39m0\u001b[39m] \u001b[39m+\u001b[39m\u001b[39m=\u001b[39m \u001b[39m1\u001b[39m\n\u001b[1;32m     80\u001b[0m     \u001b[39mreturn\u001b[39;00m np\u001b[39m.\u001b[39mdot(gval[\u001b[39m0\u001b[39m], pk)\n",
      "File \u001b[0;32m~/.local/lib/python3.10/site-packages/scipy/optimize/_differentiable_functions.py:273\u001b[0m, in \u001b[0;36mScalarFunction.grad\u001b[0;34m(self, x)\u001b[0m\n\u001b[1;32m    271\u001b[0m \u001b[39mif\u001b[39;00m \u001b[39mnot\u001b[39;00m np\u001b[39m.\u001b[39marray_equal(x, \u001b[39mself\u001b[39m\u001b[39m.\u001b[39mx):\n\u001b[1;32m    272\u001b[0m     \u001b[39mself\u001b[39m\u001b[39m.\u001b[39m_update_x_impl(x)\n\u001b[0;32m--> 273\u001b[0m \u001b[39mself\u001b[39;49m\u001b[39m.\u001b[39;49m_update_grad()\n\u001b[1;32m    274\u001b[0m \u001b[39mreturn\u001b[39;00m \u001b[39mself\u001b[39m\u001b[39m.\u001b[39mg\n",
      "File \u001b[0;32m~/.local/lib/python3.10/site-packages/scipy/optimize/_differentiable_functions.py:256\u001b[0m, in \u001b[0;36mScalarFunction._update_grad\u001b[0;34m(self)\u001b[0m\n\u001b[1;32m    254\u001b[0m \u001b[39mdef\u001b[39;00m \u001b[39m_update_grad\u001b[39m(\u001b[39mself\u001b[39m):\n\u001b[1;32m    255\u001b[0m     \u001b[39mif\u001b[39;00m \u001b[39mnot\u001b[39;00m \u001b[39mself\u001b[39m\u001b[39m.\u001b[39mg_updated:\n\u001b[0;32m--> 256\u001b[0m         \u001b[39mself\u001b[39;49m\u001b[39m.\u001b[39;49m_update_grad_impl()\n\u001b[1;32m    257\u001b[0m         \u001b[39mself\u001b[39m\u001b[39m.\u001b[39mg_updated \u001b[39m=\u001b[39m \u001b[39mTrue\u001b[39;00m\n",
      "File \u001b[0;32m~/.local/lib/python3.10/site-packages/scipy/optimize/_differentiable_functions.py:173\u001b[0m, in \u001b[0;36mScalarFunction.__init__.<locals>.update_grad\u001b[0;34m()\u001b[0m\n\u001b[1;32m    171\u001b[0m \u001b[39mself\u001b[39m\u001b[39m.\u001b[39m_update_fun()\n\u001b[1;32m    172\u001b[0m \u001b[39mself\u001b[39m\u001b[39m.\u001b[39mngev \u001b[39m+\u001b[39m\u001b[39m=\u001b[39m \u001b[39m1\u001b[39m\n\u001b[0;32m--> 173\u001b[0m \u001b[39mself\u001b[39m\u001b[39m.\u001b[39mg \u001b[39m=\u001b[39m approx_derivative(fun_wrapped, \u001b[39mself\u001b[39;49m\u001b[39m.\u001b[39;49mx, f0\u001b[39m=\u001b[39;49m\u001b[39mself\u001b[39;49m\u001b[39m.\u001b[39;49mf,\n\u001b[1;32m    174\u001b[0m                            \u001b[39m*\u001b[39;49m\u001b[39m*\u001b[39;49mfinite_diff_options)\n",
      "File \u001b[0;32m~/.local/lib/python3.10/site-packages/scipy/optimize/_numdiff.py:505\u001b[0m, in \u001b[0;36mapprox_derivative\u001b[0;34m(fun, x0, method, rel_step, abs_step, f0, bounds, sparsity, as_linear_operator, args, kwargs)\u001b[0m\n\u001b[1;32m    502\u001b[0m     use_one_sided \u001b[39m=\u001b[39m \u001b[39mFalse\u001b[39;00m\n\u001b[1;32m    504\u001b[0m \u001b[39mif\u001b[39;00m sparsity \u001b[39mis\u001b[39;00m \u001b[39mNone\u001b[39;00m:\n\u001b[0;32m--> 505\u001b[0m     \u001b[39mreturn\u001b[39;00m _dense_difference(fun_wrapped, x0, f0, h,\n\u001b[1;32m    506\u001b[0m                              use_one_sided, method)\n\u001b[1;32m    507\u001b[0m \u001b[39melse\u001b[39;00m:\n\u001b[1;32m    508\u001b[0m     \u001b[39mif\u001b[39;00m \u001b[39mnot\u001b[39;00m issparse(sparsity) \u001b[39mand\u001b[39;00m \u001b[39mlen\u001b[39m(sparsity) \u001b[39m==\u001b[39m \u001b[39m2\u001b[39m:\n",
      "File \u001b[0;32m~/.local/lib/python3.10/site-packages/scipy/optimize/_numdiff.py:576\u001b[0m, in \u001b[0;36m_dense_difference\u001b[0;34m(fun, x0, f0, h, use_one_sided, method)\u001b[0m\n\u001b[1;32m    574\u001b[0m     x \u001b[39m=\u001b[39m x0 \u001b[39m+\u001b[39m h_vecs[i]\n\u001b[1;32m    575\u001b[0m     dx \u001b[39m=\u001b[39m x[i] \u001b[39m-\u001b[39m x0[i]  \u001b[39m# Recompute dx as exactly representable number.\u001b[39;00m\n\u001b[0;32m--> 576\u001b[0m     df \u001b[39m=\u001b[39m fun(x) \u001b[39m-\u001b[39m f0\n\u001b[1;32m    577\u001b[0m \u001b[39melif\u001b[39;00m method \u001b[39m==\u001b[39m \u001b[39m'\u001b[39m\u001b[39m3-point\u001b[39m\u001b[39m'\u001b[39m \u001b[39mand\u001b[39;00m use_one_sided[i]:\n\u001b[1;32m    578\u001b[0m     x1 \u001b[39m=\u001b[39m x0 \u001b[39m+\u001b[39m h_vecs[i]\n",
      "File \u001b[0;32m~/.local/lib/python3.10/site-packages/scipy/optimize/_numdiff.py:456\u001b[0m, in \u001b[0;36mapprox_derivative.<locals>.fun_wrapped\u001b[0;34m(x)\u001b[0m\n\u001b[1;32m    455\u001b[0m \u001b[39mdef\u001b[39;00m \u001b[39mfun_wrapped\u001b[39m(x):\n\u001b[0;32m--> 456\u001b[0m     f \u001b[39m=\u001b[39m np\u001b[39m.\u001b[39matleast_1d(fun(x, \u001b[39m*\u001b[39;49margs, \u001b[39m*\u001b[39;49m\u001b[39m*\u001b[39;49mkwargs))\n\u001b[1;32m    457\u001b[0m     \u001b[39mif\u001b[39;00m f\u001b[39m.\u001b[39mndim \u001b[39m>\u001b[39m \u001b[39m1\u001b[39m:\n\u001b[1;32m    458\u001b[0m         \u001b[39mraise\u001b[39;00m \u001b[39mRuntimeError\u001b[39;00m(\u001b[39m\"\u001b[39m\u001b[39m`fun` return value has \u001b[39m\u001b[39m\"\u001b[39m\n\u001b[1;32m    459\u001b[0m                            \u001b[39m\"\u001b[39m\u001b[39mmore than 1 dimension.\u001b[39m\u001b[39m\"\u001b[39m)\n",
      "File \u001b[0;32m~/.local/lib/python3.10/site-packages/scipy/optimize/_differentiable_functions.py:137\u001b[0m, in \u001b[0;36mScalarFunction.__init__.<locals>.fun_wrapped\u001b[0;34m(x)\u001b[0m\n\u001b[1;32m    133\u001b[0m \u001b[39mself\u001b[39m\u001b[39m.\u001b[39mnfev \u001b[39m+\u001b[39m\u001b[39m=\u001b[39m \u001b[39m1\u001b[39m\n\u001b[1;32m    134\u001b[0m \u001b[39m# Send a copy because the user may overwrite it.\u001b[39;00m\n\u001b[1;32m    135\u001b[0m \u001b[39m# Overwriting results in undefined behaviour because\u001b[39;00m\n\u001b[1;32m    136\u001b[0m \u001b[39m# fun(self.x) will change self.x, with the two no longer linked.\u001b[39;00m\n\u001b[0;32m--> 137\u001b[0m fx \u001b[39m=\u001b[39m fun(np\u001b[39m.\u001b[39;49mcopy(x), \u001b[39m*\u001b[39;49margs)\n\u001b[1;32m    138\u001b[0m \u001b[39m# Make sure the function returns a true scalar\u001b[39;00m\n\u001b[1;32m    139\u001b[0m \u001b[39mif\u001b[39;00m \u001b[39mnot\u001b[39;00m np\u001b[39m.\u001b[39misscalar(fx):\n",
      "\u001b[1;32m/home/cordeau/Cours/etude_article/python/etude_article.ipynb Cell 10\u001b[0m in \u001b[0;36m2\n\u001b[1;32m      <a href='vscode-notebook-cell:/home/cordeau/Cours/etude_article/python/etude_article.ipynb#X20sZmlsZQ%3D%3D?line=0'>1</a>\u001b[0m \u001b[39mdef\u001b[39;00m \u001b[39moptimization\u001b[39m(coefficients, allPath):\n\u001b[0;32m----> <a href='vscode-notebook-cell:/home/cordeau/Cours/etude_article/python/etude_article.ipynb#X20sZmlsZQ%3D%3D?line=1'>2</a>\u001b[0m     result \u001b[39m=\u001b[39m minimize(\u001b[39mlambda\u001b[39;00m x: psy(x, allPath), x0\u001b[39m=\u001b[39mcoefficients, method\u001b[39m=\u001b[39m\u001b[39m'\u001b[39m\u001b[39mBFGS\u001b[39m\u001b[39m'\u001b[39m)\n\u001b[1;32m      <a href='vscode-notebook-cell:/home/cordeau/Cours/etude_article/python/etude_article.ipynb#X20sZmlsZQ%3D%3D?line=2'>3</a>\u001b[0m     \u001b[39mreturn\u001b[39;00m result\n",
      "\u001b[1;32m/home/cordeau/Cours/etude_article/python/etude_article.ipynb Cell 10\u001b[0m in \u001b[0;36m6\n\u001b[1;32m      <a href='vscode-notebook-cell:/home/cordeau/Cours/etude_article/python/etude_article.ipynb#X20sZmlsZQ%3D%3D?line=3'>4</a>\u001b[0m res \u001b[39m=\u001b[39m \u001b[39m0\u001b[39m\n\u001b[1;32m      <a href='vscode-notebook-cell:/home/cordeau/Cours/etude_article/python/etude_article.ipynb#X20sZmlsZQ%3D%3D?line=4'>5</a>\u001b[0m \u001b[39mfor\u001b[39;00m path \u001b[39min\u001b[39;00m allPath:\n\u001b[0;32m----> <a href='vscode-notebook-cell:/home/cordeau/Cours/etude_article/python/etude_article.ipynb#X20sZmlsZQ%3D%3D?line=5'>6</a>\u001b[0m     res \u001b[39m+\u001b[39m\u001b[39m=\u001b[39m phi(polynom, path)\n\u001b[1;32m      <a href='vscode-notebook-cell:/home/cordeau/Cours/etude_article/python/etude_article.ipynb#X20sZmlsZQ%3D%3D?line=6'>7</a>\u001b[0m \u001b[39mreturn\u001b[39;00m res \u001b[39m/\u001b[39m M\n",
      "\u001b[1;32m/home/cordeau/Cours/etude_article/python/etude_article.ipynb Cell 10\u001b[0m in \u001b[0;36m4\n\u001b[1;32m      <a href='vscode-notebook-cell:/home/cordeau/Cours/etude_article/python/etude_article.ipynb#X20sZmlsZQ%3D%3D?line=1'>2</a>\u001b[0m integration \u001b[39m=\u001b[39m \u001b[39m0\u001b[39m\n\u001b[1;32m      <a href='vscode-notebook-cell:/home/cordeau/Cours/etude_article/python/etude_article.ipynb#X20sZmlsZQ%3D%3D?line=2'>3</a>\u001b[0m \u001b[39mfor\u001b[39;00m i \u001b[39min\u001b[39;00m \u001b[39mrange\u001b[39m(nbTimeSteps):\n\u001b[0;32m----> <a href='vscode-notebook-cell:/home/cordeau/Cours/etude_article/python/etude_article.ipynb#X20sZmlsZQ%3D%3D?line=3'>4</a>\u001b[0m     integration \u001b[39m+\u001b[39m\u001b[39m=\u001b[39m quad(\u001b[39mlambda\u001b[39;49;00m t: Yt(path, t) \u001b[39m*\u001b[39;49m Ut(polynom, t, path) \u001b[39m*\u001b[39;49m Lambdat(polynom, t, path), i\u001b[39m*\u001b[39;49mstep, (i\u001b[39m+\u001b[39;49m\u001b[39m1\u001b[39;49m)\u001b[39m*\u001b[39;49mstep)[\u001b[39m0\u001b[39m]\n\u001b[1;32m      <a href='vscode-notebook-cell:/home/cordeau/Cours/etude_article/python/etude_article.ipynb#X20sZmlsZQ%3D%3D?line=4'>5</a>\u001b[0m \u001b[39mreturn\u001b[39;00m integration\n",
      "File \u001b[0;32m~/.local/lib/python3.10/site-packages/scipy/integrate/_quadpack_py.py:463\u001b[0m, in \u001b[0;36mquad\u001b[0;34m(func, a, b, args, full_output, epsabs, epsrel, limit, points, weight, wvar, wopts, maxp1, limlst, complex_func)\u001b[0m\n\u001b[1;32m    460\u001b[0m     \u001b[39mreturn\u001b[39;00m retval\n\u001b[1;32m    462\u001b[0m \u001b[39mif\u001b[39;00m weight \u001b[39mis\u001b[39;00m \u001b[39mNone\u001b[39;00m:\n\u001b[0;32m--> 463\u001b[0m     retval \u001b[39m=\u001b[39m _quad(func, a, b, args, full_output, epsabs, epsrel, limit,\n\u001b[1;32m    464\u001b[0m                    points)\n\u001b[1;32m    465\u001b[0m \u001b[39melse\u001b[39;00m:\n\u001b[1;32m    466\u001b[0m     \u001b[39mif\u001b[39;00m points \u001b[39mis\u001b[39;00m \u001b[39mnot\u001b[39;00m \u001b[39mNone\u001b[39;00m:\n",
      "File \u001b[0;32m~/.local/lib/python3.10/site-packages/scipy/integrate/_quadpack_py.py:575\u001b[0m, in \u001b[0;36m_quad\u001b[0;34m(func, a, b, args, full_output, epsabs, epsrel, limit, points)\u001b[0m\n\u001b[1;32m    573\u001b[0m \u001b[39mif\u001b[39;00m points \u001b[39mis\u001b[39;00m \u001b[39mNone\u001b[39;00m:\n\u001b[1;32m    574\u001b[0m     \u001b[39mif\u001b[39;00m infbounds \u001b[39m==\u001b[39m \u001b[39m0\u001b[39m:\n\u001b[0;32m--> 575\u001b[0m         \u001b[39mreturn\u001b[39;00m _quadpack\u001b[39m.\u001b[39;49m_qagse(func,a,b,args,full_output,epsabs,epsrel,limit)\n\u001b[1;32m    576\u001b[0m     \u001b[39melse\u001b[39;00m:\n\u001b[1;32m    577\u001b[0m         \u001b[39mreturn\u001b[39;00m _quadpack\u001b[39m.\u001b[39m_qagie(func,bound,infbounds,args,full_output,epsabs,epsrel,limit)\n",
      "\u001b[1;32m/home/cordeau/Cours/etude_article/python/etude_article.ipynb Cell 10\u001b[0m in \u001b[0;36m4\n\u001b[1;32m      <a href='vscode-notebook-cell:/home/cordeau/Cours/etude_article/python/etude_article.ipynb#X20sZmlsZQ%3D%3D?line=1'>2</a>\u001b[0m integration \u001b[39m=\u001b[39m \u001b[39m0\u001b[39m\n\u001b[1;32m      <a href='vscode-notebook-cell:/home/cordeau/Cours/etude_article/python/etude_article.ipynb#X20sZmlsZQ%3D%3D?line=2'>3</a>\u001b[0m \u001b[39mfor\u001b[39;00m i \u001b[39min\u001b[39;00m \u001b[39mrange\u001b[39m(nbTimeSteps):\n\u001b[0;32m----> <a href='vscode-notebook-cell:/home/cordeau/Cours/etude_article/python/etude_article.ipynb#X20sZmlsZQ%3D%3D?line=3'>4</a>\u001b[0m     integration \u001b[39m+\u001b[39m\u001b[39m=\u001b[39m quad(\u001b[39mlambda\u001b[39;00m t: Yt(path, t) \u001b[39m*\u001b[39m Ut(polynom, t, path) \u001b[39m*\u001b[39m Lambdat(polynom, t, path), i\u001b[39m*\u001b[39mstep, (i\u001b[39m+\u001b[39m\u001b[39m1\u001b[39m)\u001b[39m*\u001b[39mstep)[\u001b[39m0\u001b[39m]\n\u001b[1;32m      <a href='vscode-notebook-cell:/home/cordeau/Cours/etude_article/python/etude_article.ipynb#X20sZmlsZQ%3D%3D?line=4'>5</a>\u001b[0m \u001b[39mreturn\u001b[39;00m integration\n",
      "\u001b[1;32m/home/cordeau/Cours/etude_article/python/etude_article.ipynb Cell 10\u001b[0m in \u001b[0;36m2\n\u001b[1;32m     <a href='vscode-notebook-cell:/home/cordeau/Cours/etude_article/python/etude_article.ipynb#X20sZmlsZQ%3D%3D?line=17'>18</a>\u001b[0m integration \u001b[39m=\u001b[39m \u001b[39m0\u001b[39m\n\u001b[1;32m     <a href='vscode-notebook-cell:/home/cordeau/Cours/etude_article/python/etude_article.ipynb#X20sZmlsZQ%3D%3D?line=18'>19</a>\u001b[0m \u001b[39mfor\u001b[39;00m i \u001b[39min\u001b[39;00m \u001b[39mrange\u001b[39m(nbTimeSteps):\n\u001b[0;32m---> <a href='vscode-notebook-cell:/home/cordeau/Cours/etude_article/python/etude_article.ipynb#X20sZmlsZQ%3D%3D?line=19'>20</a>\u001b[0m     integration \u001b[39m+\u001b[39m\u001b[39m=\u001b[39m quad(\u001b[39mlambda\u001b[39;49;00m x: Lambdat(polynom, x, path), i\u001b[39m*\u001b[39;49mstep, (i\u001b[39m+\u001b[39;49m\u001b[39m1\u001b[39;49m)\u001b[39m*\u001b[39;49mstep)[\u001b[39m0\u001b[39m]\n\u001b[1;32m     <a href='vscode-notebook-cell:/home/cordeau/Cours/etude_article/python/etude_article.ipynb#X20sZmlsZQ%3D%3D?line=20'>21</a>\u001b[0m \u001b[39mreturn\u001b[39;00m math\u001b[39m.\u001b[39mexp(\u001b[39m-\u001b[39mintegration)\n",
      "File \u001b[0;32m~/.local/lib/python3.10/site-packages/scipy/integrate/_quadpack_py.py:463\u001b[0m, in \u001b[0;36mquad\u001b[0;34m(func, a, b, args, full_output, epsabs, epsrel, limit, points, weight, wvar, wopts, maxp1, limlst, complex_func)\u001b[0m\n\u001b[1;32m    460\u001b[0m     \u001b[39mreturn\u001b[39;00m retval\n\u001b[1;32m    462\u001b[0m \u001b[39mif\u001b[39;00m weight \u001b[39mis\u001b[39;00m \u001b[39mNone\u001b[39;00m:\n\u001b[0;32m--> 463\u001b[0m     retval \u001b[39m=\u001b[39m _quad(func, a, b, args, full_output, epsabs, epsrel, limit,\n\u001b[1;32m    464\u001b[0m                    points)\n\u001b[1;32m    465\u001b[0m \u001b[39melse\u001b[39;00m:\n\u001b[1;32m    466\u001b[0m     \u001b[39mif\u001b[39;00m points \u001b[39mis\u001b[39;00m \u001b[39mnot\u001b[39;00m \u001b[39mNone\u001b[39;00m:\n",
      "File \u001b[0;32m~/.local/lib/python3.10/site-packages/scipy/integrate/_quadpack_py.py:575\u001b[0m, in \u001b[0;36m_quad\u001b[0;34m(func, a, b, args, full_output, epsabs, epsrel, limit, points)\u001b[0m\n\u001b[1;32m    573\u001b[0m \u001b[39mif\u001b[39;00m points \u001b[39mis\u001b[39;00m \u001b[39mNone\u001b[39;00m:\n\u001b[1;32m    574\u001b[0m     \u001b[39mif\u001b[39;00m infbounds \u001b[39m==\u001b[39m \u001b[39m0\u001b[39m:\n\u001b[0;32m--> 575\u001b[0m         \u001b[39mreturn\u001b[39;00m _quadpack\u001b[39m.\u001b[39;49m_qagse(func,a,b,args,full_output,epsabs,epsrel,limit)\n\u001b[1;32m    576\u001b[0m     \u001b[39melse\u001b[39;00m:\n\u001b[1;32m    577\u001b[0m         \u001b[39mreturn\u001b[39;00m _quadpack\u001b[39m.\u001b[39m_qagie(func,bound,infbounds,args,full_output,epsabs,epsrel,limit)\n",
      "\u001b[1;32m/home/cordeau/Cours/etude_article/python/etude_article.ipynb Cell 10\u001b[0m in \u001b[0;36m2\n\u001b[1;32m     <a href='vscode-notebook-cell:/home/cordeau/Cours/etude_article/python/etude_article.ipynb#X20sZmlsZQ%3D%3D?line=17'>18</a>\u001b[0m integration \u001b[39m=\u001b[39m \u001b[39m0\u001b[39m\n\u001b[1;32m     <a href='vscode-notebook-cell:/home/cordeau/Cours/etude_article/python/etude_article.ipynb#X20sZmlsZQ%3D%3D?line=18'>19</a>\u001b[0m \u001b[39mfor\u001b[39;00m i \u001b[39min\u001b[39;00m \u001b[39mrange\u001b[39m(nbTimeSteps):\n\u001b[0;32m---> <a href='vscode-notebook-cell:/home/cordeau/Cours/etude_article/python/etude_article.ipynb#X20sZmlsZQ%3D%3D?line=19'>20</a>\u001b[0m     integration \u001b[39m+\u001b[39m\u001b[39m=\u001b[39m quad(\u001b[39mlambda\u001b[39;00m x: Lambdat(polynom, x, path), i\u001b[39m*\u001b[39mstep, (i\u001b[39m+\u001b[39m\u001b[39m1\u001b[39m)\u001b[39m*\u001b[39mstep)[\u001b[39m0\u001b[39m]\n\u001b[1;32m     <a href='vscode-notebook-cell:/home/cordeau/Cours/etude_article/python/etude_article.ipynb#X20sZmlsZQ%3D%3D?line=20'>21</a>\u001b[0m \u001b[39mreturn\u001b[39;00m math\u001b[39m.\u001b[39mexp(\u001b[39m-\u001b[39mintegration)\n",
      "\u001b[1;32m/home/cordeau/Cours/etude_article/python/etude_article.ipynb Cell 10\u001b[0m in \u001b[0;36m1\n\u001b[1;32m     <a href='vscode-notebook-cell:/home/cordeau/Cours/etude_article/python/etude_article.ipynb#X20sZmlsZQ%3D%3D?line=10'>11</a>\u001b[0m spot \u001b[39m=\u001b[39m path[index]\n\u001b[1;32m     <a href='vscode-notebook-cell:/home/cordeau/Cours/etude_article/python/etude_article.ipynb#X20sZmlsZQ%3D%3D?line=11'>12</a>\u001b[0m p_x \u001b[39m=\u001b[39m polynom_result(rebased_polynom, math\u001b[39m.\u001b[39mlog(spot))\n\u001b[0;32m---> <a href='vscode-notebook-cell:/home/cordeau/Cours/etude_article/python/etude_article.ipynb#X20sZmlsZQ%3D%3D?line=12'>13</a>\u001b[0m \u001b[39mif\u001b[39;00m(payoffVect(path[index][:]) \u001b[39m>\u001b[39m \u001b[39m0\u001b[39m):\n\u001b[1;32m     <a href='vscode-notebook-cell:/home/cordeau/Cours/etude_article/python/etude_article.ipynb#X20sZmlsZQ%3D%3D?line=13'>14</a>\u001b[0m     res \u001b[39m=\u001b[39m math\u001b[39m.\u001b[39mexp(p_x)\n\u001b[1;32m     <a href='vscode-notebook-cell:/home/cordeau/Cours/etude_article/python/etude_article.ipynb#X20sZmlsZQ%3D%3D?line=14'>15</a>\u001b[0m \u001b[39mreturn\u001b[39;00m res\n",
      "\u001b[1;32m/home/cordeau/Cours/etude_article/python/etude_article.ipynb Cell 10\u001b[0m in \u001b[0;36m4\n\u001b[1;32m     <a href='vscode-notebook-cell:/home/cordeau/Cours/etude_article/python/etude_article.ipynb#X20sZmlsZQ%3D%3D?line=43'>44</a>\u001b[0m \u001b[39mdef\u001b[39;00m \u001b[39mpayoffVect\u001b[39m(St):\n\u001b[0;32m---> <a href='vscode-notebook-cell:/home/cordeau/Cours/etude_article/python/etude_article.ipynb#X20sZmlsZQ%3D%3D?line=44'>45</a>\u001b[0m     \u001b[39msum\u001b[39m \u001b[39m=\u001b[39m np\u001b[39m.\u001b[39;49mdot(coeffs, St)\n\u001b[1;32m     <a href='vscode-notebook-cell:/home/cordeau/Cours/etude_article/python/etude_article.ipynb#X20sZmlsZQ%3D%3D?line=45'>46</a>\u001b[0m     \u001b[39msum\u001b[39m \u001b[39m-\u001b[39m\u001b[39m=\u001b[39m strike\n\u001b[1;32m     <a href='vscode-notebook-cell:/home/cordeau/Cours/etude_article/python/etude_article.ipynb#X20sZmlsZQ%3D%3D?line=47'>48</a>\u001b[0m     \u001b[39mreturn\u001b[39;00m np\u001b[39m.\u001b[39mmaximum(\u001b[39m0\u001b[39m, \u001b[39msum\u001b[39m)\n",
      "File \u001b[0;32m<__array_function__ internals>:5\u001b[0m, in \u001b[0;36mdot\u001b[0;34m(*args, **kwargs)\u001b[0m\n",
      "\u001b[0;31mKeyboardInterrupt\u001b[0m: "
     ]
    }
   ],
   "source": [
    "def optimization(coefficients, allPath):\n",
    "    result = minimize(lambda x: psy(x, allPath), x0=coefficients, method='BFGS')\n",
    "    return result\n",
    "\n",
    "polynom_to_optimize = np.random.rand(K+1)  # point de départ initial\n",
    "\n",
    "optimization(polynom_to_optimize, allPath)"
   ]
  }
 ],
 "metadata": {
  "kernelspec": {
   "display_name": "Python 3",
   "language": "python",
   "name": "python3"
  },
  "language_info": {
   "codemirror_mode": {
    "name": "ipython",
    "version": 3
   },
   "file_extension": ".py",
   "mimetype": "text/x-python",
   "name": "python",
   "nbconvert_exporter": "python",
   "pygments_lexer": "ipython3",
   "version": "3.10.6"
  },
  "orig_nbformat": 4,
  "vscode": {
   "interpreter": {
    "hash": "916dbcbb3f70747c44a77c7bcd40155683ae19c65e1c03b4aa3499c5328201f1"
   }
  }
 },
 "nbformat": 4,
 "nbformat_minor": 2
}
