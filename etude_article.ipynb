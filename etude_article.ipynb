{
 "cells": [
  {
   "cell_type": "code",
   "execution_count": 153,
   "metadata": {},
   "outputs": [],
   "source": [
    "import math\n",
    "import numpy as np\n",
    "import sys\n",
    "import json\n",
    "import numpy as np\n",
    "import functools\n",
    "from typing import List, Callable\n",
    "import numpy as np\n",
    "from scipy.interpolate import BSpline\n",
    "from scipy.optimize import minimize\n",
    "from scipy.integrate import quad\n"
   ]
  },
  {
   "cell_type": "code",
   "execution_count": 154,
   "metadata": {},
   "outputs": [
    {
     "data": {
      "text/plain": [
       "array([20.])"
      ]
     },
     "execution_count": 154,
     "metadata": {},
     "output_type": "execute_result"
    }
   ],
   "source": [
    "#Read & parse Option file\n",
    "\n",
    "with open('/home/cordeau/Cours/etude_article/basket_d5.txt', 'r') as file:\n",
    "    content = file.readlines()\n",
    "# Initialisation des variables\n",
    "rho = degree = T = size = dates = n_samples = 0\n",
    "spot = sigma = divid = coeffs = None\n",
    "type = \"\"\n",
    "strike = 0.0\n",
    "opt = None\n",
    "c = False\n",
    "# Extraction des paramètres\n",
    "for line in content:\n",
    "    ine = line.strip()\n",
    "    if \"correlation\" in line:\n",
    "        rho = float(line.split()[-1])\n",
    "    elif \"degree for polynomial regression\" in line:\n",
    "        degree = int(line.split()[-1])\n",
    "    elif \"option type\" in line:\n",
    "        type = line.split()[-1].strip()\n",
    "    elif \"maturity\" in line:\n",
    "        T = float(line.split()[-1])\n",
    "    elif \"model size\" in line:\n",
    "        size = int(line.split()[-1])\n",
    "    elif \"dates\" in line:\n",
    "        dates = int(line.split()[-1])\n",
    "    elif \"spot\" in line:\n",
    "        spot =[float(line.split()[-1])]\n",
    "    elif \"volatility\" in line:\n",
    "        sigma = [float(line.split()[-1])]\n",
    "    elif \"interest rate\" in line:\n",
    "        r = float(line.split()[-1])\n",
    "    elif \"dividend rate\" in line:\n",
    "        divid = [float(line.split()[-1])]\n",
    "    elif \"strike\" in line:\n",
    "        strike = float(line.split()[-1])\n",
    "    elif \"MC iterations\" in line:\n",
    "        n_samples = int(line.split()[-1])\n",
    "    elif \"payoff coefficients\" in line:\n",
    "        coeffs = [float(line.split()[-1])]\n",
    "\n",
    "\n",
    "#Create the payoff function\n",
    "def payoffVect(St):\n",
    "    sum = np.dot(coeffs, St)\n",
    "    sum -= strike\n",
    "\n",
    "    return np.maximum(0, sum)\n",
    "\n",
    "payoffVect(80)\n"
   ]
  },
  {
   "cell_type": "code",
   "execution_count": 155,
   "metadata": {},
   "outputs": [
    {
     "name": "stdout",
     "output_type": "stream",
     "text": [
      "[[100.        ]\n",
      " [ 94.62023007]\n",
      " [ 95.64809195]\n",
      " [ 92.10224494]\n",
      " [ 96.46345587]\n",
      " [104.95358994]\n",
      " [105.77391861]\n",
      " [110.57533589]\n",
      " [120.74424258]\n",
      " [127.05852881]]\n"
     ]
    }
   ],
   "source": [
    "nbTimeSteps = 10\n",
    "step = T/nbTimeSteps\n",
    "\n",
    "def asset(CorrelationMatrix, path):\n",
    "    Gaussian_k = np.zeros(size)\n",
    "    CorrelationLine = np.zeros(size)\n",
    "    div = 0.0\n",
    "    sig = 0.0\n",
    "    expon = 0.0\n",
    "    value = 0.0\n",
    "\n",
    "    path[0,:] = spot\n",
    "    for k in range(1, nbTimeSteps):\n",
    "        Gaussian_k = np.random.normal(0, 1, size)\n",
    "        for d in range(size):\n",
    "            div = divid[d]\n",
    "            sig = sigma[d]\n",
    "            CorrelationLine = CorrelationMatrix[d,:]\n",
    "            expon = math.exp((r - div - sig*sig/2.0)*step + sig*math.sqrt(step)*np.dot(CorrelationLine, Gaussian_k))\n",
    "            value = expon*path[k-1,d]\n",
    "            path[k,d] = value\n",
    "\n",
    "    del CorrelationLine, Gaussian_k\n",
    "\n",
    "path = np.zeros((nbTimeSteps, 1))\n",
    "correl = np.zeros((1,1))\n",
    "correl[0][0] = 1\n",
    "asset(correl, path)\n",
    "print(path)"
   ]
  },
  {
   "cell_type": "code",
   "execution_count": 156,
   "metadata": {},
   "outputs": [],
   "source": [
    "#Creation of differents paths.\n",
    "allPath = np.empty(n_samples, dtype=object)\n",
    "for i in range(n_samples):\n",
    "    path = np.zeros((nbTimeSteps, 1))\n",
    "    asset(correl, path)\n",
    "    allPath[i] = path\n"
   ]
  },
  {
   "cell_type": "code",
   "execution_count": 157,
   "metadata": {},
   "outputs": [
    {
     "name": "stdout",
     "output_type": "stream",
     "text": [
      "[[ 0.04082483  0.          0.          0.          0.        ]\n",
      " [-0.01006136  0.02012272  0.          0.          0.        ]\n",
      " [-0.00235591 -0.00471183  0.00942365  0.          0.        ]\n",
      " [-0.00054817 -0.00109633 -0.00219267  0.00438533  0.        ]\n",
      " [-0.00012741 -0.00025482 -0.00050964 -0.00101928  0.00203856]]\n"
     ]
    }
   ],
   "source": [
    "#Creation of the orthogonal base for the inner product of the article\n",
    "K = 4\n",
    "\n",
    "def polynom_result(vector, x):\n",
    "    res = 0\n",
    "    for i in range(len(vector)):\n",
    "        res += (x**i)*vector[i]\n",
    "    return res\n",
    "\n",
    "def norm(vector, points):\n",
    "    res = 0\n",
    "    for i in range(len(points)):\n",
    "        for j in range(len(points[0])):\n",
    "            res += polynom_result(vector, math.log(points[i][j]))\n",
    "    return math.sqrt(abs(res))\n",
    "\n",
    "def inner_product(u, v, matrice):\n",
    "    #print(\"innerprod\")\n",
    "    # Use the polarization identity to compute the inner product\n",
    "    u_plus_v_norm_sq = norm(u + v, matrice)\n",
    "    u_minus_v_norm_sq = norm(u - v, matrice)\n",
    "    result = (u_plus_v_norm_sq * u_plus_v_norm_sq - u_minus_v_norm_sq * u_minus_v_norm_sq) / 4.0\n",
    "    \n",
    "    return result\n",
    "\n",
    "\n",
    "def gram_schmidt():\n",
    "\n",
    "    A = np.identity(K+1)\n",
    "    Q = np.zeros_like(A)\n",
    "    for i in range(A.shape[0]):\n",
    "        # Take the i-th vector\n",
    "        v = A[i]\n",
    "        # Subtract the projection of v onto the span of the previous orthonormal vectors\n",
    "        for j in range(i):\n",
    "            v -= inner_product(Q[j], A[i], allPath) * Q[j]\n",
    "        # Normalize the resulting vector\n",
    "        Q[i] = v / norm(v, allPath)\n",
    "    return Q\n",
    "\n",
    "base = gram_schmidt()\n",
    "print(base)\n"
   ]
  },
  {
   "cell_type": "code",
   "execution_count": 158,
   "metadata": {},
   "outputs": [
    {
     "data": {
      "text/plain": [
       "0.5322451360188887"
      ]
     },
     "execution_count": 158,
     "metadata": {},
     "output_type": "execute_result"
    }
   ],
   "source": [
    "#Definition of differents functions to integrate\n",
    "\n",
    "def Yt(path, t):\n",
    "    index = int(t//step)\n",
    "    return math.exp(-r * t) * payoffVect(path[index][:])\n",
    "\n",
    "def Lambdat(polynom, t, path):\n",
    "    res = 0\n",
    "    index = int(t//step)\n",
    "    rebased_polynom = np.dot(base, polynom)\n",
    "    spot = path[index]\n",
    "    p_x = polynom_result(rebased_polynom, math.log(spot))\n",
    "    if(payoffVect(path[index][:]) > 0):\n",
    "        res = math.exp(p_x)\n",
    "    return res\n",
    "\n",
    "def Ut(polynom, t, path):\n",
    "    integration = 0\n",
    "    nb_step = 0\n",
    "    while(nb_step*step < t):\n",
    "        integration += Lambdat(polynom, nb_step*step, path) * step\n",
    "        nb_step += 1\n",
    "    integration += Lambdat(polynom, nb_step*step, path) * (step*nb_step - t)\n",
    "    return math.exp(-integration)\n",
    "\n",
    "pol = [1] * (K+1)\n",
    "Ut(pol, 0.6, path)"
   ]
  },
  {
   "cell_type": "code",
   "execution_count": 159,
   "metadata": {},
   "outputs": [
    {
     "data": {
      "text/plain": [
       "16.47941538559003"
      ]
     },
     "execution_count": 159,
     "metadata": {},
     "output_type": "execute_result"
    }
   ],
   "source": [
    "def phi(polynom, path):\n",
    "    integration = 0\n",
    "    for i in range(nbTimeSteps):\n",
    "        integration += quad(lambda t: Yt(path, t) * Ut(polynom, t, path) * Lambdat(polynom, t, path), i*step, (i+1)*step)[0]\n",
    "    return integration + Yt(path, T) * Ut(polynom, T, path)\n",
    "phi(pol, path)"
   ]
  },
  {
   "cell_type": "code",
   "execution_count": 160,
   "metadata": {},
   "outputs": [
    {
     "data": {
      "text/plain": [
       "4.860224556788978"
      ]
     },
     "execution_count": 160,
     "metadata": {},
     "output_type": "execute_result"
    }
   ],
   "source": [
    "#Definition of the function tu optimizate\n",
    "def psy(polynom, allpath):\n",
    "    M = len(allPath)\n",
    "    res = 0\n",
    "    for path in allPath:\n",
    "        res += phi(polynom, path)\n",
    "    return res / M\n",
    "\n",
    "psy(pol, allPath)"
   ]
  },
  {
   "cell_type": "code",
   "execution_count": 161,
   "metadata": {},
   "outputs": [],
   "source": [
    "def optimization(coefficients, allPath):\n",
    "    bounds = [(None, None)] * (K+1)\n",
    "    result = minimize(lambda x: -psy(x, allPath), x0=coefficients, bounds=bounds, method='L-BFGS-B')\n",
    "    return result\n",
    "\n",
    "polynom_to_optimize = np.random.rand(K+1)  # point de départ initial\n",
    "\n",
    "opt = optimization(polynom_to_optimize, allPath)"
   ]
  },
  {
   "cell_type": "code",
   "execution_count": 166,
   "metadata": {},
   "outputs": [
    {
     "name": "stdout",
     "output_type": "stream",
     "text": [
      "5.653824217995692\n"
     ]
    }
   ],
   "source": [
    "asset(correl, path)\n",
    "print(psy(opt.x, path))"
   ]
  }
 ],
 "metadata": {
  "kernelspec": {
   "display_name": "Python 3",
   "language": "python",
   "name": "python3"
  },
  "language_info": {
   "codemirror_mode": {
    "name": "ipython",
    "version": 3
   },
   "file_extension": ".py",
   "mimetype": "text/x-python",
   "name": "python",
   "nbconvert_exporter": "python",
   "pygments_lexer": "ipython3",
   "version": "3.10.6"
  },
  "orig_nbformat": 4,
  "vscode": {
   "interpreter": {
    "hash": "916dbcbb3f70747c44a77c7bcd40155683ae19c65e1c03b4aa3499c5328201f1"
   }
  }
 },
 "nbformat": 4,
 "nbformat_minor": 2
}
